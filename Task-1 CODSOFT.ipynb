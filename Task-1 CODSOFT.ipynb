{
 "cells": [
  {
   "cell_type": "code",
   "execution_count": 1,
   "id": "3c44ca0b-bf23-4828-b6ff-0996058f5749",
   "metadata": {},
   "outputs": [],
   "source": [
    "import pandas as pd\n",
    "import numpy as np\n",
    "import matplotlib.pyplot as plt\n",
    "%matplotlib inline\n",
    "import seaborn as sns"
   ]
  },
  {
   "cell_type": "code",
   "execution_count": 2,
   "id": "4b76852a-215b-4870-a068-63ac571f3c4c",
   "metadata": {},
   "outputs": [],
   "source": [
    "df=pd.read_csv(\"IMDb Movies India.csv\",encoding='latin-1')"
   ]
  },
  {
   "cell_type": "code",
   "execution_count": 3,
   "id": "6f9624f5-4588-4a96-9bb1-830af41f9392",
   "metadata": {},
   "outputs": [
    {
     "data": {
      "text/html": [
       "<div>\n",
       "<style scoped>\n",
       "    .dataframe tbody tr th:only-of-type {\n",
       "        vertical-align: middle;\n",
       "    }\n",
       "\n",
       "    .dataframe tbody tr th {\n",
       "        vertical-align: top;\n",
       "    }\n",
       "\n",
       "    .dataframe thead th {\n",
       "        text-align: right;\n",
       "    }\n",
       "</style>\n",
       "<table border=\"1\" class=\"dataframe\">\n",
       "  <thead>\n",
       "    <tr style=\"text-align: right;\">\n",
       "      <th></th>\n",
       "      <th>Name</th>\n",
       "      <th>Year</th>\n",
       "      <th>Duration</th>\n",
       "      <th>Genre</th>\n",
       "      <th>Rating</th>\n",
       "      <th>Votes</th>\n",
       "      <th>Director</th>\n",
       "      <th>Actor 1</th>\n",
       "      <th>Actor 2</th>\n",
       "      <th>Actor 3</th>\n",
       "    </tr>\n",
       "  </thead>\n",
       "  <tbody>\n",
       "    <tr>\n",
       "      <th>0</th>\n",
       "      <td></td>\n",
       "      <td>NaN</td>\n",
       "      <td>NaN</td>\n",
       "      <td>Drama</td>\n",
       "      <td>NaN</td>\n",
       "      <td>NaN</td>\n",
       "      <td>J.S. Randhawa</td>\n",
       "      <td>Manmauji</td>\n",
       "      <td>Birbal</td>\n",
       "      <td>Rajendra Bhatia</td>\n",
       "    </tr>\n",
       "    <tr>\n",
       "      <th>1</th>\n",
       "      <td>#Gadhvi (He thought he was Gandhi)</td>\n",
       "      <td>-2019.0</td>\n",
       "      <td>109 min</td>\n",
       "      <td>Drama</td>\n",
       "      <td>7.0</td>\n",
       "      <td>8.0</td>\n",
       "      <td>Gaurav Bakshi</td>\n",
       "      <td>Rasika Dugal</td>\n",
       "      <td>Vivek Ghamande</td>\n",
       "      <td>Arvind Jangid</td>\n",
       "    </tr>\n",
       "    <tr>\n",
       "      <th>2</th>\n",
       "      <td>#Homecoming</td>\n",
       "      <td>-2021.0</td>\n",
       "      <td>90 min</td>\n",
       "      <td>Drama, Musical</td>\n",
       "      <td>NaN</td>\n",
       "      <td>NaN</td>\n",
       "      <td>Soumyajit Majumdar</td>\n",
       "      <td>Sayani Gupta</td>\n",
       "      <td>Plabita Borthakur</td>\n",
       "      <td>Roy Angana</td>\n",
       "    </tr>\n",
       "    <tr>\n",
       "      <th>3</th>\n",
       "      <td>#Yaaram</td>\n",
       "      <td>-2019.0</td>\n",
       "      <td>110 min</td>\n",
       "      <td>Comedy, Romance</td>\n",
       "      <td>4.4</td>\n",
       "      <td>35.0</td>\n",
       "      <td>Ovais Khan</td>\n",
       "      <td>Prateik</td>\n",
       "      <td>Ishita Raj</td>\n",
       "      <td>Siddhant Kapoor</td>\n",
       "    </tr>\n",
       "    <tr>\n",
       "      <th>4</th>\n",
       "      <td>...And Once Again</td>\n",
       "      <td>-2010.0</td>\n",
       "      <td>105 min</td>\n",
       "      <td>Drama</td>\n",
       "      <td>NaN</td>\n",
       "      <td>NaN</td>\n",
       "      <td>Amol Palekar</td>\n",
       "      <td>Rajat Kapoor</td>\n",
       "      <td>Rituparna Sengupta</td>\n",
       "      <td>Antara Mali</td>\n",
       "    </tr>\n",
       "  </tbody>\n",
       "</table>\n",
       "</div>"
      ],
      "text/plain": [
       "                                 Name    Year Duration            Genre  \\\n",
       "0                                         NaN      NaN            Drama   \n",
       "1  #Gadhvi (He thought he was Gandhi) -2019.0  109 min            Drama   \n",
       "2                         #Homecoming -2021.0   90 min   Drama, Musical   \n",
       "3                             #Yaaram -2019.0  110 min  Comedy, Romance   \n",
       "4                   ...And Once Again -2010.0  105 min            Drama   \n",
       "\n",
       "   Rating  Votes            Director       Actor 1             Actor 2  \\\n",
       "0     NaN    NaN       J.S. Randhawa      Manmauji              Birbal   \n",
       "1     7.0    8.0       Gaurav Bakshi  Rasika Dugal      Vivek Ghamande   \n",
       "2     NaN    NaN  Soumyajit Majumdar  Sayani Gupta   Plabita Borthakur   \n",
       "3     4.4   35.0          Ovais Khan       Prateik          Ishita Raj   \n",
       "4     NaN    NaN        Amol Palekar  Rajat Kapoor  Rituparna Sengupta   \n",
       "\n",
       "           Actor 3  \n",
       "0  Rajendra Bhatia  \n",
       "1    Arvind Jangid  \n",
       "2       Roy Angana  \n",
       "3  Siddhant Kapoor  \n",
       "4      Antara Mali  "
      ]
     },
     "execution_count": 3,
     "metadata": {},
     "output_type": "execute_result"
    }
   ],
   "source": [
    "df.head()"
   ]
  },
  {
   "cell_type": "markdown",
   "id": "e86a975b-a619-4d16-8200-e05bc4aded0e",
   "metadata": {},
   "source": [
    "column types\n",
    "\n",
    "    1.Numerical_Types:->Duration,Rating,Votes,Year\n",
    "    2.Categorical_Types:->Genre,Actor1,Actor2,Actor3,Director\n",
    "      3.Mixed:->Name"
   ]
  },
  {
   "cell_type": "markdown",
   "id": "20760628-cff1-4d51-8998-fb860665953b",
   "metadata": {},
   "source": [
    "#Univariate Analysis on Numerical Columns"
   ]
  },
  {
   "cell_type": "code",
   "execution_count": 4,
   "id": "b83f7288-941c-47d4-b363-dab4ec3bb8e2",
   "metadata": {},
   "outputs": [
    {
     "data": {
      "text/plain": [
       "count        7240\n",
       "unique        182\n",
       "top       120 min\n",
       "freq          240\n",
       "Name: Duration, dtype: object"
      ]
     },
     "execution_count": 4,
     "metadata": {},
     "output_type": "execute_result"
    }
   ],
   "source": [
    "df[\"Duration\"].describe()"
   ]
  },
  {
   "cell_type": "code",
   "execution_count": 5,
   "id": "5db07e87-612b-42bb-be0f-4533206bf7e4",
   "metadata": {},
   "outputs": [],
   "source": [
    "df[\"Numerical_Time\"]=df[\"Duration\"].str.split(\" \").str[0]\n",
    "df[\"Duration_Min\"]=df[\"Duration\"].str.split(\" \").str[1]"
   ]
  },
  {
   "cell_type": "code",
   "execution_count": 6,
   "id": "b653526b-64cb-4712-b929-edb8deb8c83a",
   "metadata": {},
   "outputs": [
    {
     "data": {
      "text/html": [
       "<div>\n",
       "<style scoped>\n",
       "    .dataframe tbody tr th:only-of-type {\n",
       "        vertical-align: middle;\n",
       "    }\n",
       "\n",
       "    .dataframe tbody tr th {\n",
       "        vertical-align: top;\n",
       "    }\n",
       "\n",
       "    .dataframe thead th {\n",
       "        text-align: right;\n",
       "    }\n",
       "</style>\n",
       "<table border=\"1\" class=\"dataframe\">\n",
       "  <thead>\n",
       "    <tr style=\"text-align: right;\">\n",
       "      <th></th>\n",
       "      <th>Name</th>\n",
       "      <th>Year</th>\n",
       "      <th>Duration</th>\n",
       "      <th>Genre</th>\n",
       "      <th>Rating</th>\n",
       "      <th>Votes</th>\n",
       "      <th>Director</th>\n",
       "      <th>Actor 1</th>\n",
       "      <th>Actor 2</th>\n",
       "      <th>Actor 3</th>\n",
       "      <th>Numerical_Time</th>\n",
       "      <th>Duration_Min</th>\n",
       "    </tr>\n",
       "  </thead>\n",
       "  <tbody>\n",
       "    <tr>\n",
       "      <th>0</th>\n",
       "      <td></td>\n",
       "      <td>NaN</td>\n",
       "      <td>NaN</td>\n",
       "      <td>Drama</td>\n",
       "      <td>NaN</td>\n",
       "      <td>NaN</td>\n",
       "      <td>J.S. Randhawa</td>\n",
       "      <td>Manmauji</td>\n",
       "      <td>Birbal</td>\n",
       "      <td>Rajendra Bhatia</td>\n",
       "      <td>NaN</td>\n",
       "      <td>NaN</td>\n",
       "    </tr>\n",
       "    <tr>\n",
       "      <th>1</th>\n",
       "      <td>#Gadhvi (He thought he was Gandhi)</td>\n",
       "      <td>-2019.0</td>\n",
       "      <td>109 min</td>\n",
       "      <td>Drama</td>\n",
       "      <td>7.0</td>\n",
       "      <td>8.0</td>\n",
       "      <td>Gaurav Bakshi</td>\n",
       "      <td>Rasika Dugal</td>\n",
       "      <td>Vivek Ghamande</td>\n",
       "      <td>Arvind Jangid</td>\n",
       "      <td>109</td>\n",
       "      <td>min</td>\n",
       "    </tr>\n",
       "  </tbody>\n",
       "</table>\n",
       "</div>"
      ],
      "text/plain": [
       "                                 Name    Year Duration  Genre  Rating  Votes  \\\n",
       "0                                         NaN      NaN  Drama     NaN    NaN   \n",
       "1  #Gadhvi (He thought he was Gandhi) -2019.0  109 min  Drama     7.0    8.0   \n",
       "\n",
       "        Director       Actor 1         Actor 2          Actor 3  \\\n",
       "0  J.S. Randhawa      Manmauji          Birbal  Rajendra Bhatia   \n",
       "1  Gaurav Bakshi  Rasika Dugal  Vivek Ghamande    Arvind Jangid   \n",
       "\n",
       "  Numerical_Time Duration_Min  \n",
       "0            NaN          NaN  \n",
       "1            109          min  "
      ]
     },
     "execution_count": 6,
     "metadata": {},
     "output_type": "execute_result"
    }
   ],
   "source": [
    "df.head(2)"
   ]
  },
  {
   "cell_type": "code",
   "execution_count": 7,
   "id": "b4140f9a-2ebb-46c4-a5e4-61212704fa71",
   "metadata": {},
   "outputs": [],
   "source": [
    "df.drop(\"Duration\",axis=1,inplace=True)"
   ]
  },
  {
   "cell_type": "code",
   "execution_count": 8,
   "id": "55f1fb82-377e-4be4-a90f-e8b51033f73c",
   "metadata": {},
   "outputs": [
    {
     "data": {
      "text/html": [
       "<div>\n",
       "<style scoped>\n",
       "    .dataframe tbody tr th:only-of-type {\n",
       "        vertical-align: middle;\n",
       "    }\n",
       "\n",
       "    .dataframe tbody tr th {\n",
       "        vertical-align: top;\n",
       "    }\n",
       "\n",
       "    .dataframe thead th {\n",
       "        text-align: right;\n",
       "    }\n",
       "</style>\n",
       "<table border=\"1\" class=\"dataframe\">\n",
       "  <thead>\n",
       "    <tr style=\"text-align: right;\">\n",
       "      <th></th>\n",
       "      <th>Name</th>\n",
       "      <th>Year</th>\n",
       "      <th>Genre</th>\n",
       "      <th>Rating</th>\n",
       "      <th>Votes</th>\n",
       "      <th>Director</th>\n",
       "      <th>Actor 1</th>\n",
       "      <th>Actor 2</th>\n",
       "      <th>Actor 3</th>\n",
       "      <th>Numerical_Time</th>\n",
       "      <th>Duration_Min</th>\n",
       "    </tr>\n",
       "  </thead>\n",
       "  <tbody>\n",
       "    <tr>\n",
       "      <th>0</th>\n",
       "      <td></td>\n",
       "      <td>NaN</td>\n",
       "      <td>Drama</td>\n",
       "      <td>NaN</td>\n",
       "      <td>NaN</td>\n",
       "      <td>J.S. Randhawa</td>\n",
       "      <td>Manmauji</td>\n",
       "      <td>Birbal</td>\n",
       "      <td>Rajendra Bhatia</td>\n",
       "      <td>NaN</td>\n",
       "      <td>NaN</td>\n",
       "    </tr>\n",
       "    <tr>\n",
       "      <th>1</th>\n",
       "      <td>#Gadhvi (He thought he was Gandhi)</td>\n",
       "      <td>-2019.0</td>\n",
       "      <td>Drama</td>\n",
       "      <td>7.0</td>\n",
       "      <td>8.0</td>\n",
       "      <td>Gaurav Bakshi</td>\n",
       "      <td>Rasika Dugal</td>\n",
       "      <td>Vivek Ghamande</td>\n",
       "      <td>Arvind Jangid</td>\n",
       "      <td>109</td>\n",
       "      <td>min</td>\n",
       "    </tr>\n",
       "  </tbody>\n",
       "</table>\n",
       "</div>"
      ],
      "text/plain": [
       "                                 Name    Year  Genre  Rating  Votes  \\\n",
       "0                                         NaN  Drama     NaN    NaN   \n",
       "1  #Gadhvi (He thought he was Gandhi) -2019.0  Drama     7.0    8.0   \n",
       "\n",
       "        Director       Actor 1         Actor 2          Actor 3  \\\n",
       "0  J.S. Randhawa      Manmauji          Birbal  Rajendra Bhatia   \n",
       "1  Gaurav Bakshi  Rasika Dugal  Vivek Ghamande    Arvind Jangid   \n",
       "\n",
       "  Numerical_Time Duration_Min  \n",
       "0            NaN          NaN  \n",
       "1            109          min  "
      ]
     },
     "execution_count": 8,
     "metadata": {},
     "output_type": "execute_result"
    }
   ],
   "source": [
    "df.head(2)"
   ]
  },
  {
   "cell_type": "code",
   "execution_count": 9,
   "id": "d62d189c-bafc-4efe-b428-066d96bbda1b",
   "metadata": {},
   "outputs": [
    {
     "data": {
      "text/plain": [
       "dtype('O')"
      ]
     },
     "execution_count": 9,
     "metadata": {},
     "output_type": "execute_result"
    }
   ],
   "source": [
    "df[\"Numerical_Time\"].dtype"
   ]
  },
  {
   "cell_type": "code",
   "execution_count": 10,
   "id": "756ada1d-b50a-4cf3-9aa6-4dc7d41f3bfa",
   "metadata": {},
   "outputs": [],
   "source": [
    "df[\"Numerical_Time\"]=df[\"Numerical_Time\"].fillna(0).astype(int)"
   ]
  },
  {
   "cell_type": "code",
   "execution_count": 11,
   "id": "6f17b371-f5f6-4f2e-a8a9-a0c22c8f3a61",
   "metadata": {},
   "outputs": [
    {
     "data": {
      "text/plain": [
       "dtype('int32')"
      ]
     },
     "execution_count": 11,
     "metadata": {},
     "output_type": "execute_result"
    }
   ],
   "source": [
    "df[\"Numerical_Time\"].dtype"
   ]
  },
  {
   "cell_type": "code",
   "execution_count": 12,
   "id": "e147ee98-dfc4-4403-b1c1-d94f8779ada5",
   "metadata": {},
   "outputs": [
    {
     "data": {
      "text/plain": [
       "<Axes: ylabel='Density'>"
      ]
     },
     "execution_count": 12,
     "metadata": {},
     "output_type": "execute_result"
    },
    {
     "data": {
      "image/png": "[encoded data removed]",
      "text/plain": [
       "<Figure size 640x480 with 1 Axes>"
      ]
     },
     "metadata": {},
     "output_type": "display_data"
    }
   ],
   "source": [
    "df[\"Numerical_Time\"].plot(kind=\"kde\")"
   ]
  },
  {
   "cell_type": "code",
   "execution_count": 13,
   "id": "0a0e9d27-6e36-4765-930d-5aeee91adabe",
   "metadata": {},
   "outputs": [
    {
     "data": {
      "text/plain": [
       "<Axes: >"
      ]
     },
     "execution_count": 13,
     "metadata": {},
     "output_type": "execute_result"
    },
    {
     "data": {
      "image/png": "[encoded data removed]",
      "text/plain": [
       "<Figure size 640x480 with 1 Axes>"
      ]
     },
     "metadata": {},
     "output_type": "display_data"
    }
   ],
   "source": [
    "\n",
    "df[\"Numerical_Time\"].plot(kind=\"box\")"
   ]
  },
  {
   "cell_type": "code",
   "execution_count": 14,
   "id": "55682642-727b-4df4-86d0-82a7248aa878",
   "metadata": {},
   "outputs": [
    {
     "data": {
      "text/plain": [
       "0.37449674594889487"
      ]
     },
     "execution_count": 14,
     "metadata": {},
     "output_type": "execute_result"
    }
   ],
   "source": [
    "df[\"Numerical_Time\"].skew()"
   ]
  },
  {
   "cell_type": "markdown",
   "id": "9de29fb6-cf4e-4321-a8c7-70571808b8e8",
   "metadata": {},
   "source": [
    "        #conclusion\n",
    "         1.Data is postively skewed.\n",
    "         2.No Outliers."
   ]
  },
  {
   "cell_type": "code",
   "execution_count": 15,
   "id": "da04b878-87d8-4be7-92a0-210ec9a85888",
   "metadata": {},
   "outputs": [
    {
     "data": {
      "text/plain": [
       "count    7919.000000\n",
       "mean        5.841621\n",
       "std         1.381777\n",
       "min         1.100000\n",
       "25%         4.900000\n",
       "50%         6.000000\n",
       "75%         6.800000\n",
       "max        10.000000\n",
       "Name: Rating, dtype: float64"
      ]
     },
     "execution_count": 15,
     "metadata": {},
     "output_type": "execute_result"
    }
   ],
   "source": [
    "df[\"Rating\"].describe()"
   ]
  },
  {
   "cell_type": "code",
   "execution_count": 16,
   "id": "7e91a798-3db9-4dab-bae9-2e031955b34a",
   "metadata": {},
   "outputs": [
    {
     "data": {
      "text/plain": [
       "count    7919.000000\n",
       "mean        5.841621\n",
       "std         1.381777\n",
       "min         1.100000\n",
       "25%         4.900000\n",
       "50%         6.000000\n",
       "75%         6.800000\n",
       "max        10.000000\n",
       "Name: Rating, dtype: float64"
      ]
     },
     "execution_count": 16,
     "metadata": {},
     "output_type": "execute_result"
    }
   ],
   "source": [
    "df[\"Rating\"].describe()"
   ]
  },
  {
   "cell_type": "code",
   "execution_count": 17,
   "id": "ec7a839a-f0cc-4920-9acc-c1f1600109be",
   "metadata": {},
   "outputs": [
    {
     "data": {
      "text/plain": [
       "<Axes: >"
      ]
     },
     "execution_count": 17,
     "metadata": {},
     "output_type": "execute_result"
    },
    {
     "data": {
      "image/png": "[encoded data removed]",
      "text/plain": [
       "<Figure size 640x480 with 1 Axes>"
      ]
     },
     "metadata": {},
     "output_type": "display_data"
    }
   ],
   "source": [
    "df[\"Rating\"].plot(kind=\"box\")"
   ]
  },
  {
   "cell_type": "code",
   "execution_count": 18,
   "id": "2caa1e35-a329-4f77-86f3-4bb6d3233d00",
   "metadata": {},
   "outputs": [
    {
     "data": {
      "text/html": [
       "<div>\n",
       "<style scoped>\n",
       "    .dataframe tbody tr th:only-of-type {\n",
       "        vertical-align: middle;\n",
       "    }\n",
       "\n",
       "    .dataframe tbody tr th {\n",
       "        vertical-align: top;\n",
       "    }\n",
       "\n",
       "    .dataframe thead th {\n",
       "        text-align: right;\n",
       "    }\n",
       "</style>\n",
       "<table border=\"1\" class=\"dataframe\">\n",
       "  <thead>\n",
       "    <tr style=\"text-align: right;\">\n",
       "      <th></th>\n",
       "      <th>Name</th>\n",
       "      <th>Year</th>\n",
       "      <th>Genre</th>\n",
       "      <th>Rating</th>\n",
       "      <th>Votes</th>\n",
       "      <th>Director</th>\n",
       "      <th>Actor 1</th>\n",
       "      <th>Actor 2</th>\n",
       "      <th>Actor 3</th>\n",
       "      <th>Numerical_Time</th>\n",
       "      <th>Duration_Min</th>\n",
       "    </tr>\n",
       "  </thead>\n",
       "  <tbody>\n",
       "    <tr>\n",
       "      <th>2918</th>\n",
       "      <td>Chatur Singh Two Star</td>\n",
       "      <td>-2011.0</td>\n",
       "      <td>Action, Adventure, Comedy</td>\n",
       "      <td>1.7</td>\n",
       "      <td>624.0</td>\n",
       "      <td>Ajay Chandhok</td>\n",
       "      <td>Sanjay Dutt</td>\n",
       "      <td>Ameesha Patel</td>\n",
       "      <td>Anupam Kher</td>\n",
       "      <td>150</td>\n",
       "      <td>min</td>\n",
       "    </tr>\n",
       "    <tr>\n",
       "      <th>3618</th>\n",
       "      <td>Desh Drohi</td>\n",
       "      <td>-2008.0</td>\n",
       "      <td>Action, Thriller</td>\n",
       "      <td>1.4</td>\n",
       "      <td>3899.0</td>\n",
       "      <td>Jagdish A. Sharma</td>\n",
       "      <td>Kamal Rashid Khan</td>\n",
       "      <td>Gracy Singh</td>\n",
       "      <td>Hrishitaa Bhatt</td>\n",
       "      <td>140</td>\n",
       "      <td>min</td>\n",
       "    </tr>\n",
       "    <tr>\n",
       "      <th>4170</th>\n",
       "      <td>Dracula 2012</td>\n",
       "      <td>-2013.0</td>\n",
       "      <td>Horror</td>\n",
       "      <td>1.9</td>\n",
       "      <td>128.0</td>\n",
       "      <td>Vinayan</td>\n",
       "      <td>Thilakan</td>\n",
       "      <td>Shraddha Das</td>\n",
       "      <td>Monal Gajjar</td>\n",
       "      <td>137</td>\n",
       "      <td>min</td>\n",
       "    </tr>\n",
       "    <tr>\n",
       "      <th>5523</th>\n",
       "      <td>Hari Puttar: A Comedy of Terrors</td>\n",
       "      <td>-2008.0</td>\n",
       "      <td>Comedy, Drama, Family</td>\n",
       "      <td>1.9</td>\n",
       "      <td>314.0</td>\n",
       "      <td>Rajesh Bajaj</td>\n",
       "      <td>Lucky Kohli</td>\n",
       "      <td>Jackie Shroff</td>\n",
       "      <td>Sarika</td>\n",
       "      <td>90</td>\n",
       "      <td>min</td>\n",
       "    </tr>\n",
       "    <tr>\n",
       "      <th>5711</th>\n",
       "      <td>Himmatwala</td>\n",
       "      <td>-2013.0</td>\n",
       "      <td>Action, Comedy, Drama</td>\n",
       "      <td>1.7</td>\n",
       "      <td>8186.0</td>\n",
       "      <td>Sajid Khan</td>\n",
       "      <td>Ajay Devgn</td>\n",
       "      <td>Tamannaah Bhatia</td>\n",
       "      <td>Mahesh Manjrekar</td>\n",
       "      <td>150</td>\n",
       "      <td>min</td>\n",
       "    </tr>\n",
       "    <tr>\n",
       "      <th>5915</th>\n",
       "      <td>Humein Tumse Pyar Ho Gaya Chupke Chupke</td>\n",
       "      <td>-2003.0</td>\n",
       "      <td>Drama</td>\n",
       "      <td>1.7</td>\n",
       "      <td>27.0</td>\n",
       "      <td>Pramod Mandloi</td>\n",
       "      <td>Meghna Desai</td>\n",
       "      <td>Siddharth Dhawan</td>\n",
       "      <td>Dinesh Hingoo</td>\n",
       "      <td>135</td>\n",
       "      <td>min</td>\n",
       "    </tr>\n",
       "    <tr>\n",
       "      <th>5933</th>\n",
       "      <td>Humshakals</td>\n",
       "      <td>-2014.0</td>\n",
       "      <td>Comedy, Drama, Romance</td>\n",
       "      <td>1.8</td>\n",
       "      <td>7840.0</td>\n",
       "      <td>Sajid Khan</td>\n",
       "      <td>Saif Ali Khan</td>\n",
       "      <td>Riteish Deshmukh</td>\n",
       "      <td>Ram Kapoor</td>\n",
       "      <td>159</td>\n",
       "      <td>min</td>\n",
       "    </tr>\n",
       "    <tr>\n",
       "      <th>6744</th>\n",
       "      <td>Jimmy</td>\n",
       "      <td>-2008.0</td>\n",
       "      <td>Action, Crime, Drama</td>\n",
       "      <td>1.6</td>\n",
       "      <td>249.0</td>\n",
       "      <td>Raj N. Sippy</td>\n",
       "      <td>Mimoh Chakraborty</td>\n",
       "      <td>Vikas Anand</td>\n",
       "      <td>Rahul Dev</td>\n",
       "      <td>0</td>\n",
       "      <td>NaN</td>\n",
       "    </tr>\n",
       "    <tr>\n",
       "      <th>7958</th>\n",
       "      <td>Kyaa Kool Hain Hum 3</td>\n",
       "      <td>-2016.0</td>\n",
       "      <td>Comedy</td>\n",
       "      <td>1.9</td>\n",
       "      <td>4165.0</td>\n",
       "      <td>Umesh Ghadge</td>\n",
       "      <td>Tusshar Kapoor</td>\n",
       "      <td>Aftab Shivdasani</td>\n",
       "      <td>Krishna Abhishek</td>\n",
       "      <td>124</td>\n",
       "      <td>min</td>\n",
       "    </tr>\n",
       "    <tr>\n",
       "      <th>9639</th>\n",
       "      <td>Mumbai Can Dance Saalaa</td>\n",
       "      <td>-2015.0</td>\n",
       "      <td>Drama</td>\n",
       "      <td>1.6</td>\n",
       "      <td>43.0</td>\n",
       "      <td>Sachindra Sharma</td>\n",
       "      <td>Shakti Kapoor</td>\n",
       "      <td>Prashant Narayanan</td>\n",
       "      <td>Aditya Pancholi</td>\n",
       "      <td>135</td>\n",
       "      <td>min</td>\n",
       "    </tr>\n",
       "    <tr>\n",
       "      <th>11005</th>\n",
       "      <td>Prem Aggan</td>\n",
       "      <td>-1998.0</td>\n",
       "      <td>Drama, Romance</td>\n",
       "      <td>1.7</td>\n",
       "      <td>544.0</td>\n",
       "      <td>Feroz Khan</td>\n",
       "      <td>Fardeen Khan</td>\n",
       "      <td>Meghna Kothari</td>\n",
       "      <td>Sameer Malhotra</td>\n",
       "      <td>168</td>\n",
       "      <td>min</td>\n",
       "    </tr>\n",
       "    <tr>\n",
       "      <th>11454</th>\n",
       "      <td>Race 3</td>\n",
       "      <td>-2018.0</td>\n",
       "      <td>Action, Crime, Thriller</td>\n",
       "      <td>1.9</td>\n",
       "      <td>42457.0</td>\n",
       "      <td>Remo D'Souza</td>\n",
       "      <td>Anil Kapoor</td>\n",
       "      <td>Salman Khan</td>\n",
       "      <td>Bobby Deol</td>\n",
       "      <td>160</td>\n",
       "      <td>min</td>\n",
       "    </tr>\n",
       "    <tr>\n",
       "      <th>11463</th>\n",
       "      <td>Radhe</td>\n",
       "      <td>-2021.0</td>\n",
       "      <td>Action, Crime, Thriller</td>\n",
       "      <td>1.8</td>\n",
       "      <td>162455.0</td>\n",
       "      <td>Prabhu Deva</td>\n",
       "      <td>Salman Khan</td>\n",
       "      <td>Disha Patani</td>\n",
       "      <td>Randeep Hooda</td>\n",
       "      <td>135</td>\n",
       "      <td>min</td>\n",
       "    </tr>\n",
       "    <tr>\n",
       "      <th>11644</th>\n",
       "      <td>Ram Gopal Varma Ki Aag</td>\n",
       "      <td>-2007.0</td>\n",
       "      <td>Action, Adventure, Comedy</td>\n",
       "      <td>1.7</td>\n",
       "      <td>6655.0</td>\n",
       "      <td>Ram Gopal Varma</td>\n",
       "      <td>Amitabh Bachchan</td>\n",
       "      <td>Mohanlal</td>\n",
       "      <td>Ajay Devgn</td>\n",
       "      <td>171</td>\n",
       "      <td>min</td>\n",
       "    </tr>\n",
       "    <tr>\n",
       "      <th>12171</th>\n",
       "      <td>Sadak 2</td>\n",
       "      <td>-2020.0</td>\n",
       "      <td>Action, Drama</td>\n",
       "      <td>1.1</td>\n",
       "      <td>67785.0</td>\n",
       "      <td>Mahesh Bhatt</td>\n",
       "      <td>Alia Bhatt</td>\n",
       "      <td>Priyanka Bose</td>\n",
       "      <td>Sanjay Dutt</td>\n",
       "      <td>133</td>\n",
       "      <td>min</td>\n",
       "    </tr>\n",
       "    <tr>\n",
       "      <th>13593</th>\n",
       "      <td>Super Model</td>\n",
       "      <td>-2013.0</td>\n",
       "      <td>Drama, Mystery, Romance</td>\n",
       "      <td>1.9</td>\n",
       "      <td>180.0</td>\n",
       "      <td>Navin Batra</td>\n",
       "      <td>Ashmit Patel</td>\n",
       "      <td>Veena Malik</td>\n",
       "      <td>Sana Oberoi</td>\n",
       "      <td>83</td>\n",
       "      <td>min</td>\n",
       "    </tr>\n",
       "    <tr>\n",
       "      <th>13907</th>\n",
       "      <td>Tera Intezaar</td>\n",
       "      <td>-2017.0</td>\n",
       "      <td>Romance, Thriller</td>\n",
       "      <td>1.8</td>\n",
       "      <td>262.0</td>\n",
       "      <td>Raajeev Walia</td>\n",
       "      <td>Arbaaz Khan</td>\n",
       "      <td>Sunny Leone</td>\n",
       "      <td>Bhani Singh</td>\n",
       "      <td>108</td>\n",
       "      <td>min</td>\n",
       "    </tr>\n",
       "    <tr>\n",
       "      <th>14356</th>\n",
       "      <td>Time to Dance</td>\n",
       "      <td>-2021.0</td>\n",
       "      <td>Musical, Romance</td>\n",
       "      <td>1.8</td>\n",
       "      <td>730.0</td>\n",
       "      <td>Stanley D'Costa</td>\n",
       "      <td>Sooraj Pancholi</td>\n",
       "      <td>Isabelle Kaif</td>\n",
       "      <td>Waluscha De Sousa</td>\n",
       "      <td>113</td>\n",
       "      <td>min</td>\n",
       "    </tr>\n",
       "    <tr>\n",
       "      <th>14728</th>\n",
       "      <td>Valentine Days</td>\n",
       "      <td>-2003.0</td>\n",
       "      <td>Romance</td>\n",
       "      <td>1.9</td>\n",
       "      <td>42.0</td>\n",
       "      <td>Sumeer Sabharwal</td>\n",
       "      <td>Manoj Bidwai</td>\n",
       "      <td>Bobby Darling</td>\n",
       "      <td>Sameer Kochhar</td>\n",
       "      <td>0</td>\n",
       "      <td>NaN</td>\n",
       "    </tr>\n",
       "    <tr>\n",
       "      <th>15040</th>\n",
       "      <td>Welcome to New York</td>\n",
       "      <td>-2018.0</td>\n",
       "      <td>Comedy, Drama</td>\n",
       "      <td>1.6</td>\n",
       "      <td>774.0</td>\n",
       "      <td>Chakri Toleti</td>\n",
       "      <td>Richard Harris</td>\n",
       "      <td>Jasmine Kaur</td>\n",
       "      <td>Sonakshi Sinha</td>\n",
       "      <td>118</td>\n",
       "      <td>min</td>\n",
       "    </tr>\n",
       "  </tbody>\n",
       "</table>\n",
       "</div>"
      ],
      "text/plain": [
       "                                          Name    Year  \\\n",
       "2918                     Chatur Singh Two Star -2011.0   \n",
       "3618                                Desh Drohi -2008.0   \n",
       "4170                              Dracula 2012 -2013.0   \n",
       "5523          Hari Puttar: A Comedy of Terrors -2008.0   \n",
       "5711                                Himmatwala -2013.0   \n",
       "5915   Humein Tumse Pyar Ho Gaya Chupke Chupke -2003.0   \n",
       "5933                                Humshakals -2014.0   \n",
       "6744                                     Jimmy -2008.0   \n",
       "7958                      Kyaa Kool Hain Hum 3 -2016.0   \n",
       "9639                   Mumbai Can Dance Saalaa -2015.0   \n",
       "11005                               Prem Aggan -1998.0   \n",
       "11454                                   Race 3 -2018.0   \n",
       "11463                                    Radhe -2021.0   \n",
       "11644                   Ram Gopal Varma Ki Aag -2007.0   \n",
       "12171                                  Sadak 2 -2020.0   \n",
       "13593                              Super Model -2013.0   \n",
       "13907                            Tera Intezaar -2017.0   \n",
       "14356                            Time to Dance -2021.0   \n",
       "14728                           Valentine Days -2003.0   \n",
       "15040                      Welcome to New York -2018.0   \n",
       "\n",
       "                           Genre  Rating     Votes           Director  \\\n",
       "2918   Action, Adventure, Comedy     1.7     624.0      Ajay Chandhok   \n",
       "3618            Action, Thriller     1.4    3899.0  Jagdish A. Sharma   \n",
       "4170                      Horror     1.9     128.0            Vinayan   \n",
       "5523       Comedy, Drama, Family     1.9     314.0       Rajesh Bajaj   \n",
       "5711       Action, Comedy, Drama     1.7    8186.0         Sajid Khan   \n",
       "5915                       Drama     1.7      27.0     Pramod Mandloi   \n",
       "5933      Comedy, Drama, Romance     1.8    7840.0         Sajid Khan   \n",
       "6744        Action, Crime, Drama     1.6     249.0       Raj N. Sippy   \n",
       "7958                      Comedy     1.9    4165.0       Umesh Ghadge   \n",
       "9639                       Drama     1.6      43.0   Sachindra Sharma   \n",
       "11005             Drama, Romance     1.7     544.0         Feroz Khan   \n",
       "11454    Action, Crime, Thriller     1.9   42457.0       Remo D'Souza   \n",
       "11463    Action, Crime, Thriller     1.8  162455.0        Prabhu Deva   \n",
       "11644  Action, Adventure, Comedy     1.7    6655.0    Ram Gopal Varma   \n",
       "12171              Action, Drama     1.1   67785.0       Mahesh Bhatt   \n",
       "13593    Drama, Mystery, Romance     1.9     180.0        Navin Batra   \n",
       "13907          Romance, Thriller     1.8     262.0      Raajeev Walia   \n",
       "14356           Musical, Romance     1.8     730.0    Stanley D'Costa   \n",
       "14728                    Romance     1.9      42.0   Sumeer Sabharwal   \n",
       "15040              Comedy, Drama     1.6     774.0      Chakri Toleti   \n",
       "\n",
       "                 Actor 1             Actor 2            Actor 3  \\\n",
       "2918         Sanjay Dutt       Ameesha Patel        Anupam Kher   \n",
       "3618   Kamal Rashid Khan         Gracy Singh    Hrishitaa Bhatt   \n",
       "4170            Thilakan        Shraddha Das       Monal Gajjar   \n",
       "5523         Lucky Kohli       Jackie Shroff             Sarika   \n",
       "5711          Ajay Devgn    Tamannaah Bhatia   Mahesh Manjrekar   \n",
       "5915        Meghna Desai    Siddharth Dhawan      Dinesh Hingoo   \n",
       "5933       Saif Ali Khan    Riteish Deshmukh         Ram Kapoor   \n",
       "6744   Mimoh Chakraborty         Vikas Anand          Rahul Dev   \n",
       "7958      Tusshar Kapoor    Aftab Shivdasani   Krishna Abhishek   \n",
       "9639       Shakti Kapoor  Prashant Narayanan    Aditya Pancholi   \n",
       "11005       Fardeen Khan      Meghna Kothari    Sameer Malhotra   \n",
       "11454        Anil Kapoor         Salman Khan         Bobby Deol   \n",
       "11463        Salman Khan        Disha Patani      Randeep Hooda   \n",
       "11644   Amitabh Bachchan            Mohanlal         Ajay Devgn   \n",
       "12171         Alia Bhatt       Priyanka Bose        Sanjay Dutt   \n",
       "13593       Ashmit Patel         Veena Malik        Sana Oberoi   \n",
       "13907        Arbaaz Khan         Sunny Leone        Bhani Singh   \n",
       "14356    Sooraj Pancholi       Isabelle Kaif  Waluscha De Sousa   \n",
       "14728       Manoj Bidwai       Bobby Darling     Sameer Kochhar   \n",
       "15040     Richard Harris        Jasmine Kaur     Sonakshi Sinha   \n",
       "\n",
       "       Numerical_Time Duration_Min  \n",
       "2918              150          min  \n",
       "3618              140          min  \n",
       "4170              137          min  \n",
       "5523               90          min  \n",
       "5711              150          min  \n",
       "5915              135          min  \n",
       "5933              159          min  \n",
       "6744                0          NaN  \n",
       "7958              124          min  \n",
       "9639              135          min  \n",
       "11005             168          min  \n",
       "11454             160          min  \n",
       "11463             135          min  \n",
       "11644             171          min  \n",
       "12171             133          min  \n",
       "13593              83          min  \n",
       "13907             108          min  \n",
       "14356             113          min  \n",
       "14728               0          NaN  \n",
       "15040             118          min  "
      ]
     },
     "execution_count": 18,
     "metadata": {},
     "output_type": "execute_result"
    }
   ],
   "source": [
    "df[df[\"Rating\"]<2]"
   ]
  },
  {
   "cell_type": "code",
   "execution_count": 19,
   "id": "c800a849-c707-450b-9335-6a4f20d5b202",
   "metadata": {},
   "outputs": [
    {
     "data": {
      "text/plain": [
       "count      7920.000000\n",
       "mean       1938.276283\n",
       "std       11601.703700\n",
       "min           5.000000\n",
       "25%          16.000000\n",
       "50%          55.000000\n",
       "75%         404.000000\n",
       "max      591417.000000\n",
       "Name: Votes, dtype: float64"
      ]
     },
     "execution_count": 19,
     "metadata": {},
     "output_type": "execute_result"
    }
   ],
   "source": [
    "df[\"Votes\"].describe()"
   ]
  },
  {
   "cell_type": "code",
   "execution_count": 20,
   "id": "430f71b7-1e2f-4963-b8c1-3398c09506e0",
   "metadata": {},
   "outputs": [
    {
     "data": {
      "text/plain": [
       "dtype('float64')"
      ]
     },
     "execution_count": 20,
     "metadata": {},
     "output_type": "execute_result"
    }
   ],
   "source": [
    "df[\"Votes\"].dtype"
   ]
  },
  {
   "cell_type": "code",
   "execution_count": 21,
   "id": "e17ec675-c288-4dc1-86e6-81eb08e9434d",
   "metadata": {},
   "outputs": [],
   "source": [
    "df[\"Votes\"]=df[\"Votes\"].fillna(0).astype(int)"
   ]
  },
  {
   "cell_type": "code",
   "execution_count": 22,
   "id": "9c886611-bbae-41b6-ae60-0aee0fabc305",
   "metadata": {},
   "outputs": [
    {
     "data": {
      "text/plain": [
       "<Axes: ylabel='Density'>"
      ]
     },
     "execution_count": 22,
     "metadata": {},
     "output_type": "execute_result"
    },
    {
     "data": {
      "image/png": "[encoded data removed]",
      "text/plain": [
       "<Figure size 640x480 with 1 Axes>"
      ]
     },
     "metadata": {},
     "output_type": "display_data"
    }
   ],
   "source": [
    "df[\"Votes\"].plot(kind=\"kde\")"
   ]
  },
  {
   "cell_type": "code",
   "execution_count": 23,
   "id": "efbfc70d-736c-4e5b-82b3-187f40a00463",
   "metadata": {},
   "outputs": [
    {
     "data": {
      "text/plain": [
       "35.15104402871796"
      ]
     },
     "execution_count": 23,
     "metadata": {},
     "output_type": "execute_result"
    }
   ],
   "source": [
    "df[\"Votes\"].skew()"
   ]
  },
  {
   "cell_type": "markdown",
   "id": "4b595dcf-72ab-4e4b-a22b-8a35dcc0ae95",
   "metadata": {},
   "source": [
    "#Univariate Analysis on Categorical Variables."
   ]
  },
  {
   "cell_type": "code",
   "execution_count": 24,
   "id": "97734c71-6410-44f5-8491-86e08fd1d5b7",
   "metadata": {},
   "outputs": [
    {
     "data": {
      "text/html": [
       "<div>\n",
       "<style scoped>\n",
       "    .dataframe tbody tr th:only-of-type {\n",
       "        vertical-align: middle;\n",
       "    }\n",
       "\n",
       "    .dataframe tbody tr th {\n",
       "        vertical-align: top;\n",
       "    }\n",
       "\n",
       "    .dataframe thead th {\n",
       "        text-align: right;\n",
       "    }\n",
       "</style>\n",
       "<table border=\"1\" class=\"dataframe\">\n",
       "  <thead>\n",
       "    <tr style=\"text-align: right;\">\n",
       "      <th></th>\n",
       "      <th>Name</th>\n",
       "      <th>Year</th>\n",
       "      <th>Genre</th>\n",
       "      <th>Rating</th>\n",
       "      <th>Votes</th>\n",
       "      <th>Director</th>\n",
       "      <th>Actor 1</th>\n",
       "      <th>Actor 2</th>\n",
       "      <th>Actor 3</th>\n",
       "      <th>Numerical_Time</th>\n",
       "      <th>Duration_Min</th>\n",
       "    </tr>\n",
       "  </thead>\n",
       "  <tbody>\n",
       "    <tr>\n",
       "      <th>0</th>\n",
       "      <td></td>\n",
       "      <td>NaN</td>\n",
       "      <td>Drama</td>\n",
       "      <td>NaN</td>\n",
       "      <td>0</td>\n",
       "      <td>J.S. Randhawa</td>\n",
       "      <td>Manmauji</td>\n",
       "      <td>Birbal</td>\n",
       "      <td>Rajendra Bhatia</td>\n",
       "      <td>0</td>\n",
       "      <td>NaN</td>\n",
       "    </tr>\n",
       "    <tr>\n",
       "      <th>1</th>\n",
       "      <td>#Gadhvi (He thought he was Gandhi)</td>\n",
       "      <td>-2019.0</td>\n",
       "      <td>Drama</td>\n",
       "      <td>7.0</td>\n",
       "      <td>8</td>\n",
       "      <td>Gaurav Bakshi</td>\n",
       "      <td>Rasika Dugal</td>\n",
       "      <td>Vivek Ghamande</td>\n",
       "      <td>Arvind Jangid</td>\n",
       "      <td>109</td>\n",
       "      <td>min</td>\n",
       "    </tr>\n",
       "  </tbody>\n",
       "</table>\n",
       "</div>"
      ],
      "text/plain": [
       "                                 Name    Year  Genre  Rating  Votes  \\\n",
       "0                                         NaN  Drama     NaN      0   \n",
       "1  #Gadhvi (He thought he was Gandhi) -2019.0  Drama     7.0      8   \n",
       "\n",
       "        Director       Actor 1         Actor 2          Actor 3  \\\n",
       "0  J.S. Randhawa      Manmauji          Birbal  Rajendra Bhatia   \n",
       "1  Gaurav Bakshi  Rasika Dugal  Vivek Ghamande    Arvind Jangid   \n",
       "\n",
       "   Numerical_Time Duration_Min  \n",
       "0               0          NaN  \n",
       "1             109          min  "
      ]
     },
     "execution_count": 24,
     "metadata": {},
     "output_type": "execute_result"
    }
   ],
   "source": [
    "df.head(2)"
   ]
  },
  {
   "cell_type": "code",
   "execution_count": 25,
   "id": "b006356b-0702-49cc-8d32-dcc6e1248b71",
   "metadata": {},
   "outputs": [],
   "source": [
    "df_ok=df[\"Genre\"].value_counts().index\n",
    "df_ok2=df[\"Genre\"].value_counts().values"
   ]
  },
  {
   "cell_type": "code",
   "execution_count": 26,
   "id": "484a71e5-ba69-43af-bfbc-b5ca11561249",
   "metadata": {},
   "outputs": [
    {
     "data": {
      "text/plain": [
       "([<matplotlib.patches.Wedge at 0x1fb688dcc80>,\n",
       "  <matplotlib.patches.Wedge at 0x1fb688cb380>,\n",
       "  <matplotlib.patches.Wedge at 0x1fb68937ec0>,\n",
       "  <matplotlib.patches.Wedge at 0x1fb68941700>,\n",
       "  <matplotlib.patches.Wedge at 0x1fb68942cc0>],\n",
       " [Text(0.14733468832391525, 1.0900882944131154, 'Drama'),\n",
       "  Text(-1.0142988722987032, -0.4256733461864616, 'Action'),\n",
       "  Text(-0.11516960987640368, -1.093954277363052, 'Thriller'),\n",
       "  Text(0.6774267497461054, -0.8666562171521229, 'Romance'),\n",
       "  Text(1.0599259896103086, -0.2942055345308924, 'Drama, Romance')],\n",
       " [Text(0.08036437544940832, 0.5945936151344265, '45.724%'),\n",
       "  Text(-0.5532539303447471, -0.23218546155625175, '21.201%'),\n",
       "  Text(-0.06281978720531109, -0.5967023331071192, '12.812%'),\n",
       "  Text(0.369505499861512, -0.472721572992067, '11.645%'),\n",
       "  Text(0.5781414488783501, -0.16047574610775944, '8.618%')])"
      ]
     },
     "execution_count": 26,
     "metadata": {},
     "output_type": "execute_result"
    },
    {
     "data": {
      "image/png": "[encoded data removed]",
      "text/plain": [
       "<Figure size 640x480 with 1 Axes>"
      ]
     },
     "metadata": {},
     "output_type": "display_data"
    }
   ],
   "source": [
    "plt.pie(df_ok2[:5],labels=df_ok[:5],autopct=\"%1.3f%%\")"
   ]
  },
  {
   "cell_type": "markdown",
   "id": "a7799c41-f032-45a6-949a-4248f6ba0129",
   "metadata": {},
   "source": [
    "       #conclusion:->\n",
    "       1.darma genre has the higest percentage.\n",
    "       2.Action is in 2nd number.\n",
    "       3.Then it will  Thriller.\n",
    "       4.Then it will romance and drama,romance"
   ]
  },
  {
   "cell_type": "code",
   "execution_count": 27,
   "id": "03d0da29-9438-4656-9bb6-f63fa6994b05",
   "metadata": {},
   "outputs": [],
   "source": [
    "df_1=df[\"Actor 1\"].value_counts().index\n",
    "df_2=df[\"Actor 1\"].value_counts().values"
   ]
  },
  {
   "cell_type": "code",
   "execution_count": 28,
   "id": "3f9c1d19-26ce-4aed-9379-a97405819128",
   "metadata": {},
   "outputs": [
    {
     "data": {
      "text/plain": [
       "([<matplotlib.patches.Wedge at 0x1fb68980d40>,\n",
       "  <matplotlib.patches.Wedge at 0x1fb6896a3c0>,\n",
       "  <matplotlib.patches.Wedge at 0x1fb68983080>,\n",
       "  <matplotlib.patches.Wedge at 0x1fb689b7c80>,\n",
       "  <matplotlib.patches.Wedge at 0x1fb689b7140>,\n",
       "  <matplotlib.patches.Wedge at 0x1fb689b64e0>,\n",
       "  <matplotlib.patches.Wedge at 0x1fb689b58e0>,\n",
       "  <matplotlib.patches.Wedge at 0x1fb689b4ce0>,\n",
       "  <matplotlib.patches.Wedge at 0x1fb689b40b0>,\n",
       "  <matplotlib.patches.Wedge at 0x1fb689af470>],\n",
       " [Text(1.003622102334762, 0.4502695589368134, 'Ashok Kumar'),\n",
       "  Text(0.38096972248300925, 1.0319215428273698, 'Dharmendra'),\n",
       "  Text(-0.42196885892712976, 1.0158455995355475, 'Jeetendra'),\n",
       "  Text(-0.9912477103446299, 0.4768940938369116, 'Mithun Chakraborty'),\n",
       "  Text(-1.0655581871375186, -0.27310391762881187, 'Amitabh Bachchan'),\n",
       "  Text(-0.6656512747151342, -0.8757330532017832, 'Rajesh Khanna'),\n",
       "  Text(-0.08359717784178988, -1.0968188145071585, 'Dev Anand'),\n",
       "  Text(0.44356258873794774, -1.0066043065038468, 'Shashi Kapoor'),\n",
       "  Text(0.8567359858131253, -0.6899300331285868, 'Akshay Kumar'),\n",
       "  Text(1.0731163406082693, -0.24170502584662387, 'Sanjeev Kumar')],\n",
       " [Text(0.5474302376371428, 0.2456015776018982, '13.424%'),\n",
       "  Text(0.20780166680891413, 0.5628662960876561, '11.895%'),\n",
       "  Text(-0.23016483214207076, 0.5540975997466623, '11.895%'),\n",
       "  Text(-0.540680569278889, 0.2601240511837699, '11.300%'),\n",
       "  Text(-0.5812135566204647, -0.1489657732520792, '10.960%'),\n",
       "  Text(-0.36308251348098225, -0.4776725744736999, '10.365%'),\n",
       "  Text(-0.0455984606409763, -0.5982648079129954, '7.901%'),\n",
       "  Text(0.24194323022069875, -0.5490568944566436, '7.732%'),\n",
       "  Text(0.4673105377162501, -0.37632547261559274, '7.477%'),\n",
       "  Text(0.5853361857863286, -0.13183910500724938, '7.052%')])"
      ]
     },
     "execution_count": 28,
     "metadata": {},
     "output_type": "execute_result"
    },
    {
     "data": {
      "image/png": "[encoded data removed]",
      "text/plain": [
       "<Figure size 640x480 with 1 Axes>"
      ]
     },
     "metadata": {},
     "output_type": "display_data"
    }
   ],
   "source": [
    "plt.pie(df_2[:10],labels=df_1[:10],autopct=\"%1.3f%%\")"
   ]
  },
  {
   "cell_type": "markdown",
   "id": "b5b2d0d5-c657-4a71-a185-98ec4de23e0e",
   "metadata": {},
   "source": [
    "          #Conclusion:->Top 10 Actors\n",
    "           1.Ashok kumar.\n",
    "           2.jeetender & Dharmendra.\n",
    "           3.AMitabh Bachchan.\n",
    "           4. Rajesh Khanna\n",
    "           5.F=Dev Anand\n",
    "           6. Shashi Kapoor.\n",
    "           7. Akshay Kumar.\n",
    "           8. Sanjeev Kumar.\n",
    "           9. Ashok kmuar.\n",
    "        "
   ]
  },
  {
   "cell_type": "code",
   "execution_count": 29,
   "id": "50c9c111-00c8-4206-8fde-9103f3f49060",
   "metadata": {},
   "outputs": [],
   "source": [
    "df_x=df[\"Director\"].value_counts().index\n",
    "df_y=df[\"Director\"].value_counts().values"
   ]
  },
  {
   "cell_type": "code",
   "execution_count": 30,
   "id": "0f6142c9-5efa-4f79-a715-ba4363303d9a",
   "metadata": {},
   "outputs": [
    {
     "data": {
      "text/plain": [
       "([<matplotlib.patches.Wedge at 0x1fb68980bc0>,\n",
       "  <matplotlib.patches.Wedge at 0x1fb689ac830>,\n",
       "  <matplotlib.patches.Wedge at 0x1fb689e0620>,\n",
       "  <matplotlib.patches.Wedge at 0x1fb688f1ac0>,\n",
       "  <matplotlib.patches.Wedge at 0x1fb68d34590>,\n",
       "  <matplotlib.patches.Wedge at 0x1fb68d34b60>,\n",
       "  <matplotlib.patches.Wedge at 0x1fb68d35100>,\n",
       "  <matplotlib.patches.Wedge at 0x1fb68d356a0>,\n",
       "  <matplotlib.patches.Wedge at 0x1fb68d35d00>,\n",
       "  <matplotlib.patches.Wedge at 0x1fb68d36330>],\n",
       " [Text(1.0229642651544186, 0.40440587559663443, 'Jayant Desai'),\n",
       "  Text(0.47635290979468703, 0.9915078947391871, 'Kanti Shah'),\n",
       "  Text(-0.26857663831211137, 1.0667082962801806, 'Babubhai Mistry'),\n",
       "  Text(-0.8497450351407689, 0.6985222797116879, 'Mahesh Bhatt'),\n",
       "  Text(-1.097197327741093, 0.07847307817210387, 'Master Bhagwan'),\n",
       "  Text(-0.9478323274062423, -0.5582238611199507, 'Nanabhai Bhatt'),\n",
       "  Text(-0.46990715595660704, -0.9945789384361471, 'Dhirubhai Desai'),\n",
       "  Text(0.15654632673430227, -1.0888035854028022, 'B.R. Ishara'),\n",
       "  Text(0.7203468250294088, -0.8313245164615624, 'David Dhawan'),\n",
       "  Text(1.055442282845914, -0.3099057721001757, 'Mohammed Hussain')],\n",
       " [Text(0.5579805082660465, 0.22058502305270966, '11.983%'),\n",
       "  Text(0.2598288598880111, 0.5408224880395566, '11.777%'),\n",
       "  Text(-0.14649634817024254, 0.5818408888800984, '10.331%'),\n",
       "  Text(-0.4634972918949648, 0.3810121525700116, '9.917%'),\n",
       "  Text(-0.5984712696769596, 0.04280349718478393, '9.711%'),\n",
       "  Text(-0.5169994513124958, -0.30448574242906395, '9.504%'),\n",
       "  Text(-0.25631299415814923, -0.5424976027833529, '9.504%'),\n",
       "  Text(0.08538890549143759, -0.5938928647651648, '9.091%'),\n",
       "  Text(0.39291645001604114, -0.4534497362517612, '9.091%'),\n",
       "  Text(0.5756957906432257, -0.16903951205464127, '9.091%')])"
      ]
     },
     "execution_count": 30,
     "metadata": {},
     "output_type": "execute_result"
    },
    {
     "data": {
      "image/png": "[encoded data removed]",
      "text/plain": [
       "<Figure size 640x480 with 1 Axes>"
      ]
     },
     "metadata": {},
     "output_type": "display_data"
    }
   ],
   "source": [
    "plt.pie(df_y[:10],labels=df_x[:10],autopct=\"%1.3f%%\")"
   ]
  },
  {
   "cell_type": "markdown",
   "id": "d6ddfdf6-640a-4944-a417-2bd2bb188390",
   "metadata": {},
   "source": [
    "          $Conclusion:->Top 10 directors \n",
    "          1.jayant Desai.\n",
    "          2.kanti Shah\n",
    "          3.Babubhai Mistry.\n",
    "          4.Mahesh Bhatt\n",
    "          5. Master Bhagwan.\n",
    "          6. NanaBhai Bhatt\n",
    "          7. Dhirubhai desai.\n",
    "          8.B.R Ishara.\n",
    "          9.David Dhawan.\n",
    "          10.Mohammad Hussain.\n",
    "    \n"
   ]
  },
  {
   "cell_type": "code",
   "execution_count": 31,
   "id": "afc1146e-5981-4df4-9668-e395679adadb",
   "metadata": {},
   "outputs": [
    {
     "data": {
      "text/plain": [
       "Name                 0\n",
       "Year               528\n",
       "Genre             1877\n",
       "Rating            7590\n",
       "Votes                0\n",
       "Director           525\n",
       "Actor 1           1617\n",
       "Actor 2           2384\n",
       "Actor 3           3144\n",
       "Numerical_Time       0\n",
       "Duration_Min      8269\n",
       "dtype: int64"
      ]
     },
     "execution_count": 31,
     "metadata": {},
     "output_type": "execute_result"
    }
   ],
   "source": [
    "df.isnull().sum()"
   ]
  },
  {
   "cell_type": "code",
   "execution_count": 32,
   "id": "a582f492-2a01-41fa-b546-e8b467335f87",
   "metadata": {},
   "outputs": [],
   "source": [
    "#NOW DEALING WITH THE MISSING VALUES.\n",
    "df[\"Year\"]=df[\"Year\"].fillna(df[\"Year\"].mode()[0])\n",
    "df[\"Genre\"]=df[\"Genre\"].fillna(df[\"Genre\"].mode()[0])\n",
    "df[\"Rating\"]=df[\"Rating\"].fillna(df[\"Rating\"].mode()[0])\n",
    "df[\"Director\"]=df[\"Director\"].fillna(df[\"Director\"].mode()[0])\n",
    "df[\"Actor 1\"]=df[\"Actor 1\"].fillna(df[\"Actor 1\"].mode()[0])\n",
    "df[\"Actor 2\"]=df[\"Actor 2\"].fillna(df[\"Actor 2\"].mode()[0])\n",
    "df[\"Actor 3\"]=df[\"Actor 3\"].fillna(df[\"Actor 3\"].mode()[0])\n",
    "df[\"Duration_Min\"]=df[\"Duration_Min\"].fillna(df[\"Actor 3\"].mode()[0])"
   ]
  },
  {
   "cell_type": "code",
   "execution_count": 98,
   "id": "efd3b051-725d-4cab-876b-898bdb357528",
   "metadata": {},
   "outputs": [],
   "source": [
    "# handling  categorical values"
   ]
  },
  {
   "cell_type": "code",
   "execution_count": 99,
   "id": "359efd49-de3e-4460-91de-69b187baf814",
   "metadata": {},
   "outputs": [],
   "source": [
    "df[\"Name\"]=df[\"Name\"].astype(int)"
   ]
  },
  {
   "cell_type": "code",
   "execution_count": 100,
   "id": "24dbadff-d6db-4fa3-9b51-50b3403ecc45",
   "metadata": {},
   "outputs": [],
   "source": [
    "from sklearn.preprocessing import LabelEncoder "
   ]
  },
  {
   "cell_type": "code",
   "execution_count": 101,
   "id": "91cf39ab-0495-4738-a6f2-467d405a6d29",
   "metadata": {},
   "outputs": [],
   "source": [
    "lr=LabelEncoder()"
   ]
  },
  {
   "cell_type": "code",
   "execution_count": 102,
   "id": "2de2b572-59b0-43a4-91c9-a2f3b08a58c7",
   "metadata": {},
   "outputs": [],
   "source": [
    "df[\"Name\"]=lr.fit_transform(df[\"Name\"])"
   ]
  },
  {
   "cell_type": "code",
   "execution_count": 103,
   "id": "f0cdcc63-b89f-4416-8804-37213e6b1fd9",
   "metadata": {},
   "outputs": [],
   "source": [
    "df[\"Genre\"]=lr.fit_transform(df[\"Genre\"])"
   ]
  },
  {
   "cell_type": "code",
   "execution_count": 104,
   "id": "1a423748-fc90-4129-a31a-17f16b994534",
   "metadata": {},
   "outputs": [],
   "source": [
    "df[\"Director\"]=lr.fit_transform(df[\"Director\"])"
   ]
  },
  {
   "cell_type": "code",
   "execution_count": 105,
   "id": "7b92bad8-e74f-4adc-9614-0924f2554461",
   "metadata": {},
   "outputs": [],
   "source": [
    "df[\"Actor 1\"]=lr.fit_transform(df[\"Actor 1\"])"
   ]
  },
  {
   "cell_type": "code",
   "execution_count": 106,
   "id": "9aa693e4-2136-4237-9d3a-758c2deedd4d",
   "metadata": {},
   "outputs": [],
   "source": [
    "df[\"Actor 2\"]=lr.fit_transform(df[\"Actor 2\"])"
   ]
  },
  {
   "cell_type": "code",
   "execution_count": 107,
   "id": "f2a000d4-9c30-450b-9e9c-09e334ddf44a",
   "metadata": {},
   "outputs": [],
   "source": [
    "df[\"Actor 3\"]=lr.fit_transform(df[\"Actor 3\"])"
   ]
  },
  {
   "cell_type": "code",
   "execution_count": 108,
   "id": "5b7265c5-8c51-4085-ab19-36ddab7d23d6",
   "metadata": {},
   "outputs": [],
   "source": [
    "df[\"Duration_Min\"]=lr.fit_transform(df[\"Duration_Min\"])"
   ]
  },
  {
   "cell_type": "code",
   "execution_count": null,
   "id": "d5c72a14-9fa7-47c7-9055-0796e12ef4c2",
   "metadata": {},
   "outputs": [],
   "source": []
  },
  {
   "cell_type": "code",
   "execution_count": 109,
   "id": "d589a5e9-6a7b-4321-858b-8595aad50438",
   "metadata": {},
   "outputs": [],
   "source": [
    "#Feature Engineeering."
   ]
  },
  {
   "cell_type": "code",
   "execution_count": 131,
   "id": "8a31d6f8-616f-43a0-99bd-c2a2e69445bd",
   "metadata": {},
   "outputs": [],
   "source": [
    "from sklearn.model_selection import train_test_split\n",
    "X=df.drop('Rating',axis=1)\n",
    "y=df[\"Rating\"]"
   ]
  },
  {
   "cell_type": "code",
   "execution_count": 132,
   "id": "c54cbbf4-b55a-47bb-90e3-0fcb84aa705d",
   "metadata": {},
   "outputs": [],
   "source": [
    "X_train,X_test,y_train,y_test=train_test_split(X,y,random_state=101,test_size=0.3)"
   ]
  },
  {
   "cell_type": "code",
   "execution_count": 141,
   "id": "21c6bb90-d63a-492f-9cdc-d4fb151cbd89",
   "metadata": {},
   "outputs": [],
   "source": [
    "from sklearn.tree import DecisionTreeRegressor"
   ]
  },
  {
   "cell_type": "code",
   "execution_count": 148,
   "id": "68f8efb4-6db3-441a-bc5e-1b9d044284d3",
   "metadata": {},
   "outputs": [],
   "source": [
    "dtc = DecisionTreeRegressor()"
   ]
  },
  {
   "cell_type": "code",
   "execution_count": 149,
   "id": "3830beaf-bf06-4322-afeb-d035b328dfc5",
   "metadata": {},
   "outputs": [
    {
     "data": {
      "text/html": [
       "<style>#sk-container-id-3 {color: black;}#sk-container-id-3 pre{padding: 0;}#sk-container-id-3 div.sk-toggleable {background-color: white;}#sk-container-id-3 label.sk-toggleable__label {cursor: pointer;display: block;width: 100%;margin-bottom: 0;padding: 0.3em;box-sizing: border-box;text-align: center;}#sk-container-id-3 label.sk-toggleable__label-arrow:before {content: \"▸\";float: left;margin-right: 0.25em;color: #696969;}#sk-container-id-3 label.sk-toggleable__label-arrow:hover:before {color: black;}#sk-container-id-3 div.sk-estimator:hover label.sk-toggleable__label-arrow:before {color: black;}#sk-container-id-3 div.sk-toggleable__content {max-height: 0;max-width: 0;overflow: hidden;text-align: left;background-color: #f0f8ff;}#sk-container-id-3 div.sk-toggleable__content pre {margin: 0.2em;color: black;border-radius: 0.25em;background-color: #f0f8ff;}#sk-container-id-3 input.sk-toggleable__control:checked~div.sk-toggleable__content {max-height: 200px;max-width: 100%;overflow: auto;}#sk-container-id-3 input.sk-toggleable__control:checked~label.sk-toggleable__label-arrow:before {content: \"▾\";}#sk-container-id-3 div.sk-estimator input.sk-toggleable__control:checked~label.sk-toggleable__label {background-color: #d4ebff;}#sk-container-id-3 div.sk-label input.sk-toggleable__control:checked~label.sk-toggleable__label {background-color: #d4ebff;}#sk-container-id-3 input.sk-hidden--visually {border: 0;clip: rect(1px 1px 1px 1px);clip: rect(1px, 1px, 1px, 1px);height: 1px;margin: -1px;overflow: hidden;padding: 0;position: absolute;width: 1px;}#sk-container-id-3 div.sk-estimator {font-family: monospace;background-color: #f0f8ff;border: 1px dotted black;border-radius: 0.25em;box-sizing: border-box;margin-bottom: 0.5em;}#sk-container-id-3 div.sk-estimator:hover {background-color: #d4ebff;}#sk-container-id-3 div.sk-parallel-item::after {content: \"\";width: 100%;border-bottom: 1px solid gray;flex-grow: 1;}#sk-container-id-3 div.sk-label:hover label.sk-toggleable__label {background-color: #d4ebff;}#sk-container-id-3 div.sk-serial::before {content: \"\";position: absolute;border-left: 1px solid gray;box-sizing: border-box;top: 0;bottom: 0;left: 50%;z-index: 0;}#sk-container-id-3 div.sk-serial {display: flex;flex-direction: column;align-items: center;background-color: white;padding-right: 0.2em;padding-left: 0.2em;position: relative;}#sk-container-id-3 div.sk-item {position: relative;z-index: 1;}#sk-container-id-3 div.sk-parallel {display: flex;align-items: stretch;justify-content: center;background-color: white;position: relative;}#sk-container-id-3 div.sk-item::before, #sk-container-id-3 div.sk-parallel-item::before {content: \"\";position: absolute;border-left: 1px solid gray;box-sizing: border-box;top: 0;bottom: 0;left: 50%;z-index: -1;}#sk-container-id-3 div.sk-parallel-item {display: flex;flex-direction: column;z-index: 1;position: relative;background-color: white;}#sk-container-id-3 div.sk-parallel-item:first-child::after {align-self: flex-end;width: 50%;}#sk-container-id-3 div.sk-parallel-item:last-child::after {align-self: flex-start;width: 50%;}#sk-container-id-3 div.sk-parallel-item:only-child::after {width: 0;}#sk-container-id-3 div.sk-dashed-wrapped {border: 1px dashed gray;margin: 0 0.4em 0.5em 0.4em;box-sizing: border-box;padding-bottom: 0.4em;background-color: white;}#sk-container-id-3 div.sk-label label {font-family: monospace;font-weight: bold;display: inline-block;line-height: 1.2em;}#sk-container-id-3 div.sk-label-container {text-align: center;}#sk-container-id-3 div.sk-container {/* jupyter's `normalize.less` sets `[hidden] { display: none; }` but bootstrap.min.css set `[hidden] { display: none !important; }` so we also need the `!important` here to be able to override the default hidden behavior on the sphinx rendered scikit-learn.org. See: https://github.com/scikit-learn/scikit-learn/issues/21755 */display: inline-block !important;position: relative;}#sk-container-id-3 div.sk-text-repr-fallback {display: none;}</style><div id=\"sk-container-id-3\" class=\"sk-top-container\"><div class=\"sk-text-repr-fallback\"><pre>DecisionTreeRegressor()</pre><b>In a Jupyter environment, please rerun this cell to show the HTML representation or trust the notebook. <br />On GitHub, the HTML representation is unable to render, please try loading this page with nbviewer.org.</b></div><div class=\"sk-container\" hidden><div class=\"sk-item\"><div class=\"sk-estimator sk-toggleable\"><input class=\"sk-toggleable__control sk-hidden--visually\" id=\"sk-estimator-id-3\" type=\"checkbox\" checked><label for=\"sk-estimator-id-3\" class=\"sk-toggleable__label sk-toggleable__label-arrow\">DecisionTreeRegressor</label><div class=\"sk-toggleable__content\"><pre>DecisionTreeRegressor()</pre></div></div></div></div></div>"
      ],
      "text/plain": [
       "DecisionTreeRegressor()"
      ]
     },
     "execution_count": 149,
     "metadata": {},
     "output_type": "execute_result"
    }
   ],
   "source": [
    "dtc.fit(X_train,y_train)"
   ]
  },
  {
   "cell_type": "code",
   "execution_count": 150,
   "id": "d4f32c6a-607b-413e-9021-8e2fac5ce075",
   "metadata": {},
   "outputs": [],
   "source": [
    "predict= dtc.predict(X_test)"
   ]
  },
  {
   "cell_type": "code",
   "execution_count": 155,
   "id": "8515b574-e5f0-4159-97d0-cea7144bf859",
   "metadata": {},
   "outputs": [
    {
     "name": "stdout",
     "output_type": "stream",
     "text": [
      "Root Mean Squared Error: 1.1378763196433397\n"
     ]
    }
   ],
   "source": [
    "from sklearn.metrics import mean_squared_error\n",
    "\n",
    "mse = mean_squared_error(y_test, predict)\n",
    "rmse = mse**0.5\n",
    "print(f\"Root Mean Squared Error: {rmse}\")"
   ]
  },
  {
   "cell_type": "code",
   "execution_count": 163,
   "id": "ee7b057a-b2b3-48e2-ae3b-6f0172131de6",
   "metadata": {},
   "outputs": [
    {
     "data": {
      "text/html": [
       "<div>\n",
       "<style scoped>\n",
       "    .dataframe tbody tr th:only-of-type {\n",
       "        vertical-align: middle;\n",
       "    }\n",
       "\n",
       "    .dataframe tbody tr th {\n",
       "        vertical-align: top;\n",
       "    }\n",
       "\n",
       "    .dataframe thead th {\n",
       "        text-align: right;\n",
       "    }\n",
       "</style>\n",
       "<table border=\"1\" class=\"dataframe\">\n",
       "  <thead>\n",
       "    <tr style=\"text-align: right;\">\n",
       "      <th></th>\n",
       "      <th>Name</th>\n",
       "      <th>Year</th>\n",
       "      <th>Genre</th>\n",
       "      <th>Rating</th>\n",
       "      <th>Votes</th>\n",
       "      <th>Director</th>\n",
       "      <th>Actor 1</th>\n",
       "      <th>Actor 2</th>\n",
       "      <th>Actor 3</th>\n",
       "      <th>Numerical_Time</th>\n",
       "      <th>Duration_Min</th>\n",
       "    </tr>\n",
       "  </thead>\n",
       "  <tbody>\n",
       "    <tr>\n",
       "      <th>0</th>\n",
       "      <td>0</td>\n",
       "      <td>-2019.0</td>\n",
       "      <td>299</td>\n",
       "      <td>6.2</td>\n",
       "      <td>0</td>\n",
       "      <td>1926</td>\n",
       "      <td>2250</td>\n",
       "      <td>800</td>\n",
       "      <td>3108</td>\n",
       "      <td>0</td>\n",
       "      <td>0</td>\n",
       "    </tr>\n",
       "    <tr>\n",
       "      <th>1</th>\n",
       "      <td>1</td>\n",
       "      <td>-2019.0</td>\n",
       "      <td>299</td>\n",
       "      <td>7.0</td>\n",
       "      <td>8</td>\n",
       "      <td>1548</td>\n",
       "      <td>3280</td>\n",
       "      <td>4790</td>\n",
       "      <td>527</td>\n",
       "      <td>109</td>\n",
       "      <td>1</td>\n",
       "    </tr>\n",
       "    <tr>\n",
       "      <th>2</th>\n",
       "      <td>2</td>\n",
       "      <td>-2021.0</td>\n",
       "      <td>351</td>\n",
       "      <td>6.2</td>\n",
       "      <td>0</td>\n",
       "      <td>5123</td>\n",
       "      <td>3713</td>\n",
       "      <td>2866</td>\n",
       "      <td>3450</td>\n",
       "      <td>90</td>\n",
       "      <td>1</td>\n",
       "    </tr>\n",
       "    <tr>\n",
       "      <th>3</th>\n",
       "      <td>3</td>\n",
       "      <td>-2019.0</td>\n",
       "      <td>228</td>\n",
       "      <td>4.4</td>\n",
       "      <td>35</td>\n",
       "      <td>3319</td>\n",
       "      <td>2917</td>\n",
       "      <td>1504</td>\n",
       "      <td>4020</td>\n",
       "      <td>110</td>\n",
       "      <td>1</td>\n",
       "    </tr>\n",
       "    <tr>\n",
       "      <th>4</th>\n",
       "      <td>7</td>\n",
       "      <td>-2010.0</td>\n",
       "      <td>299</td>\n",
       "      <td>6.2</td>\n",
       "      <td>0</td>\n",
       "      <td>385</td>\n",
       "      <td>3112</td>\n",
       "      <td>3462</td>\n",
       "      <td>405</td>\n",
       "      <td>105</td>\n",
       "      <td>1</td>\n",
       "    </tr>\n",
       "  </tbody>\n",
       "</table>\n",
       "</div>"
      ],
      "text/plain": [
       "   Name    Year  Genre  Rating  Votes  Director  Actor 1  Actor 2  Actor 3  \\\n",
       "0     0 -2019.0    299     6.2      0      1926     2250      800     3108   \n",
       "1     1 -2019.0    299     7.0      8      1548     3280     4790      527   \n",
       "2     2 -2021.0    351     6.2      0      5123     3713     2866     3450   \n",
       "3     3 -2019.0    228     4.4     35      3319     2917     1504     4020   \n",
       "4     7 -2010.0    299     6.2      0       385     3112     3462      405   \n",
       "\n",
       "   Numerical_Time  Duration_Min  \n",
       "0               0             0  \n",
       "1             109             1  \n",
       "2              90             1  \n",
       "3             110             1  \n",
       "4             105             1  "
      ]
     },
     "execution_count": 163,
     "metadata": {},
     "output_type": "execute_result"
    }
   ],
   "source": [
    "df.head()"
   ]
  },
  {
   "cell_type": "code",
   "execution_count": null,
   "id": "a38243c7-3f88-4594-8f31-1ebbb76c17d2",
   "metadata": {},
   "outputs": [],
   "source": []
  }
 ],
 "metadata": {
  "kernelspec": {
   "display_name": "Python 3 (ipykernel)",
   "language": "python",
   "name": "python3"
  },
  "language_info": {
   "codemirror_mode": {
    "name": "ipython",
    "version": 3
   },
   "file_extension": ".py",
   "mimetype": "text/x-python",
   "name": "python",
   "nbconvert_exporter": "python",
   "pygments_lexer": "ipython3",
   "version": "3.12.1"
  }
 },
 "nbformat": 4,
 "nbformat_minor": 5
}
